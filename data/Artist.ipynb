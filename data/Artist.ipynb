{
 "cells": [
  {
   "cell_type": "code",
   "execution_count": 4,
   "metadata": {},
   "outputs": [
    {
     "data": {
      "text/html": [
       "<div>\n",
       "<style scoped>\n",
       "    .dataframe tbody tr th:only-of-type {\n",
       "        vertical-align: middle;\n",
       "    }\n",
       "\n",
       "    .dataframe tbody tr th {\n",
       "        vertical-align: top;\n",
       "    }\n",
       "\n",
       "    .dataframe thead th {\n",
       "        text-align: right;\n",
       "    }\n",
       "</style>\n",
       "<table border=\"1\" class=\"dataframe\">\n",
       "  <thead>\n",
       "    <tr style=\"text-align: right;\">\n",
       "      <th></th>\n",
       "      <th>id</th>\n",
       "      <th>artwork_name</th>\n",
       "      <th>artist_full_name</th>\n",
       "      <th>artist_first_name</th>\n",
       "      <th>artist_last_name</th>\n",
       "      <th>creation_year</th>\n",
       "      <th>century</th>\n",
       "      <th>source_url</th>\n",
       "      <th>image_url</th>\n",
       "      <th>collection_origins</th>\n",
       "      <th>...</th>\n",
       "      <th>original_id_in_collection</th>\n",
       "      <th>created_at</th>\n",
       "      <th>last_modified</th>\n",
       "      <th>omni_id</th>\n",
       "      <th>created_by_id</th>\n",
       "      <th>general_type</th>\n",
       "      <th>geocoded</th>\n",
       "      <th>color_pallete</th>\n",
       "      <th>dominant_color</th>\n",
       "      <th>palette_count</th>\n",
       "    </tr>\n",
       "  </thead>\n",
       "  <tbody>\n",
       "    <tr>\n",
       "      <th>0</th>\n",
       "      <td>4ee8e28a-9df1-4af4-b9cc-c78a761c6b15</td>\n",
       "      <td>70 amx</td>\n",
       "      <td>xynphix</td>\n",
       "      <td>xynphix</td>\n",
       "      <td>xynphix</td>\n",
       "      <td>2007.0</td>\n",
       "      <td>21.0</td>\n",
       "      <td>https://xynphix.deviantart.com/art/70-AMX-5865...</td>\n",
       "      <td>https://img00.deviantart.net/839b/i/2015/127/9...</td>\n",
       "      <td>DeviantArt</td>\n",
       "      <td>...</td>\n",
       "      <td>58659661</td>\n",
       "      <td>2017-11-23</td>\n",
       "      <td>2017-12-21</td>\n",
       "      <td>4156450</td>\n",
       "      <td>1</td>\n",
       "      <td>painting</td>\n",
       "      <td>f</td>\n",
       "      <td>[u'#e2f5e5', u'#a5ab9e', u'#65c7a3', u'#243b39...</td>\n",
       "      <td>#a5ab9e</td>\n",
       "      <td>[4009, 7637, 3303, 6147, 4742, 3908, 7216, 514...</td>\n",
       "    </tr>\n",
       "    <tr>\n",
       "      <th>1</th>\n",
       "      <td>80fa7733-e6c6-4398-b20a-eff2c5bef278</td>\n",
       "      <td>monument of pope leo xi</td>\n",
       "      <td>alessandro algardi</td>\n",
       "      <td>alessandro</td>\n",
       "      <td>algardi</td>\n",
       "      <td>1634.0</td>\n",
       "      <td>17.0</td>\n",
       "      <td>https://www.wga.hu/html/a/algardi/1/leo_xi.html</td>\n",
       "      <td>http://www.wga.hu/art/a/algardi/1/leo_xi.jpg</td>\n",
       "      <td>Web Gallery of Art '17</td>\n",
       "      <td>...</td>\n",
       "      <td>290</td>\n",
       "      <td>2017-11-15</td>\n",
       "      <td>2018-06-19</td>\n",
       "      <td>290</td>\n",
       "      <td>1</td>\n",
       "      <td>sculpture</td>\n",
       "      <td>t</td>\n",
       "      <td>[u'#d6cdc8', u'#b5aba7', u'#998f8b', u'#867974...</td>\n",
       "      <td>#221812</td>\n",
       "      <td>[3686, 5229, 6630, 5395, 4857, 6420, 5178, 468...</td>\n",
       "    </tr>\n",
       "    <tr>\n",
       "      <th>2</th>\n",
       "      <td>17e45c05-c224-4e18-9885-03a1beae62ea</td>\n",
       "      <td>crucifixion (detail)</td>\n",
       "      <td>andrea da firenze</td>\n",
       "      <td>andrea da</td>\n",
       "      <td>firenze</td>\n",
       "      <td>1366.0</td>\n",
       "      <td>14.0</td>\n",
       "      <td>https://www.wga.hu/html/a/andrea/firenze/spani...</td>\n",
       "      <td>http://www.wga.hu/art/a/andrea/firenze/spanish...</td>\n",
       "      <td>Web Gallery of Art '17</td>\n",
       "      <td>...</td>\n",
       "      <td>522</td>\n",
       "      <td>2017-11-15</td>\n",
       "      <td>2018-06-19</td>\n",
       "      <td>522</td>\n",
       "      <td>1</td>\n",
       "      <td>painting</td>\n",
       "      <td>t</td>\n",
       "      <td>[u'#a18b78', u'#866b58', u'#7c5340', u'#5b4b3f...</td>\n",
       "      <td>#110d0d</td>\n",
       "      <td>[6226, 6056, 4293, 6101, 5185, 5292, 6392, 384...</td>\n",
       "    </tr>\n",
       "    <tr>\n",
       "      <th>3</th>\n",
       "      <td>093cf203-734c-4828-bc94-391907932fee</td>\n",
       "      <td>faith</td>\n",
       "      <td>giuseppe angeli</td>\n",
       "      <td>giuseppe</td>\n",
       "      <td>angeli</td>\n",
       "      <td>1754.0</td>\n",
       "      <td>18.0</td>\n",
       "      <td>https://www.wga.hu/html/a/angeli/rocco2.html</td>\n",
       "      <td>http://www.wga.hu/art/a/angeli/rocco2.jpg</td>\n",
       "      <td>Web Gallery of Art '17</td>\n",
       "      <td>...</td>\n",
       "      <td>733</td>\n",
       "      <td>2017-11-15</td>\n",
       "      <td>2018-06-19</td>\n",
       "      <td>733</td>\n",
       "      <td>1</td>\n",
       "      <td>painting</td>\n",
       "      <td>t</td>\n",
       "      <td>[u'#000202', u'#a3754c', u'#935531', u'#1d130c...</td>\n",
       "      <td>#000000</td>\n",
       "      <td>[1007, 4537, 4708, 4466, 4432, 2946, 4776, 448...</td>\n",
       "    </tr>\n",
       "    <tr>\n",
       "      <th>4</th>\n",
       "      <td>fc0e311f-d85f-418c-b347-d5a9e0b81e8f</td>\n",
       "      <td>lamp post</td>\n",
       "      <td>williamsnape</td>\n",
       "      <td>williamsnape</td>\n",
       "      <td>williamsnape</td>\n",
       "      <td>2010.0</td>\n",
       "      <td>21.0</td>\n",
       "      <td>https://williamsnape.deviantart.com/art/Lamp-P...</td>\n",
       "      <td>https://orig00.deviantart.net/4bcc/f/2010/043/...</td>\n",
       "      <td>DeviantArt</td>\n",
       "      <td>...</td>\n",
       "      <td>153003687</td>\n",
       "      <td>2017-11-23</td>\n",
       "      <td>2017-12-21</td>\n",
       "      <td>4158023</td>\n",
       "      <td>1</td>\n",
       "      <td>painting</td>\n",
       "      <td>f</td>\n",
       "      <td>[u'#cdada2', u'#987d71', u'#503b33', u'#311d1b...</td>\n",
       "      <td>#233b49</td>\n",
       "      <td>[4225, 4308, 4914, 6274, 6911, 6261, 6753, 421...</td>\n",
       "    </tr>\n",
       "  </tbody>\n",
       "</table>\n",
       "<p>5 rows × 22 columns</p>\n",
       "</div>"
      ],
      "text/plain": [
       "                                     id             artwork_name  \\\n",
       "0  4ee8e28a-9df1-4af4-b9cc-c78a761c6b15                   70 amx   \n",
       "1  80fa7733-e6c6-4398-b20a-eff2c5bef278  monument of pope leo xi   \n",
       "2  17e45c05-c224-4e18-9885-03a1beae62ea     crucifixion (detail)   \n",
       "3  093cf203-734c-4828-bc94-391907932fee                    faith   \n",
       "4  fc0e311f-d85f-418c-b347-d5a9e0b81e8f                lamp post   \n",
       "\n",
       "     artist_full_name artist_first_name artist_last_name creation_year  \\\n",
       "0             xynphix           xynphix          xynphix        2007.0   \n",
       "1  alessandro algardi        alessandro          algardi        1634.0   \n",
       "2   andrea da firenze         andrea da          firenze        1366.0   \n",
       "3     giuseppe angeli          giuseppe           angeli        1754.0   \n",
       "4        williamsnape      williamsnape     williamsnape        2010.0   \n",
       "\n",
       "  century                                         source_url  \\\n",
       "0    21.0  https://xynphix.deviantart.com/art/70-AMX-5865...   \n",
       "1    17.0    https://www.wga.hu/html/a/algardi/1/leo_xi.html   \n",
       "2    14.0  https://www.wga.hu/html/a/andrea/firenze/spani...   \n",
       "3    18.0       https://www.wga.hu/html/a/angeli/rocco2.html   \n",
       "4    21.0  https://williamsnape.deviantart.com/art/Lamp-P...   \n",
       "\n",
       "                                           image_url      collection_origins  \\\n",
       "0  https://img00.deviantart.net/839b/i/2015/127/9...              DeviantArt   \n",
       "1       http://www.wga.hu/art/a/algardi/1/leo_xi.jpg  Web Gallery of Art '17   \n",
       "2  http://www.wga.hu/art/a/andrea/firenze/spanish...  Web Gallery of Art '17   \n",
       "3          http://www.wga.hu/art/a/angeli/rocco2.jpg  Web Gallery of Art '17   \n",
       "4  https://orig00.deviantart.net/4bcc/f/2010/043/...              DeviantArt   \n",
       "\n",
       "   ... original_id_in_collection  created_at last_modified  omni_id  \\\n",
       "0  ...                  58659661  2017-11-23    2017-12-21  4156450   \n",
       "1  ...                       290  2017-11-15    2018-06-19      290   \n",
       "2  ...                       522  2017-11-15    2018-06-19      522   \n",
       "3  ...                       733  2017-11-15    2018-06-19      733   \n",
       "4  ...                 153003687  2017-11-23    2017-12-21  4158023   \n",
       "\n",
       "  created_by_id  general_type  geocoded  \\\n",
       "0             1      painting         f   \n",
       "1             1     sculpture         t   \n",
       "2             1      painting         t   \n",
       "3             1      painting         t   \n",
       "4             1      painting         f   \n",
       "\n",
       "                                       color_pallete dominant_color  \\\n",
       "0  [u'#e2f5e5', u'#a5ab9e', u'#65c7a3', u'#243b39...        #a5ab9e   \n",
       "1  [u'#d6cdc8', u'#b5aba7', u'#998f8b', u'#867974...        #221812   \n",
       "2  [u'#a18b78', u'#866b58', u'#7c5340', u'#5b4b3f...        #110d0d   \n",
       "3  [u'#000202', u'#a3754c', u'#935531', u'#1d130c...        #000000   \n",
       "4  [u'#cdada2', u'#987d71', u'#503b33', u'#311d1b...        #233b49   \n",
       "\n",
       "                                       palette_count  \n",
       "0  [4009, 7637, 3303, 6147, 4742, 3908, 7216, 514...  \n",
       "1  [3686, 5229, 6630, 5395, 4857, 6420, 5178, 468...  \n",
       "2  [6226, 6056, 4293, 6101, 5185, 5292, 6392, 384...  \n",
       "3  [1007, 4537, 4708, 4466, 4432, 2946, 4776, 448...  \n",
       "4  [4225, 4308, 4914, 6274, 6911, 6261, 6753, 421...  \n",
       "\n",
       "[5 rows x 22 columns]"
      ]
     },
     "execution_count": 4,
     "metadata": {},
     "output_type": "execute_result"
    }
   ],
   "source": [
    "import numpy as np\n",
    "import pandas as pd\n",
    "\n",
    "omiart_pd = pd.read_csv('omniart_v3_datadump.csv', engine='python')\n",
    "omiart_pd.head()"
   ]
  },
  {
   "cell_type": "code",
   "execution_count": 36,
   "metadata": {},
   "outputs": [],
   "source": [
    "bazille_pd = omiart_pd[omiart_pd[\"artist_full_name\"].str.lower().str.contains(\"bazille\", na=False)]"
   ]
  },
  {
   "cell_type": "code",
   "execution_count": 37,
   "metadata": {},
   "outputs": [
    {
     "data": {
      "text/plain": [
       "array(['jean-frdric bazille', 'frederic bazille', 'jean-frédéric bazille',\n",
       "       'paul-david bazille', 'marc bazille', 'lon-jean-bazille perrault'],\n",
       "      dtype=object)"
      ]
     },
     "execution_count": 37,
     "metadata": {},
     "output_type": "execute_result"
    }
   ],
   "source": [
    "bazille_pd.artist_full_name.unique()"
   ]
  },
  {
   "cell_type": "code",
   "execution_count": 38,
   "metadata": {},
   "outputs": [],
   "source": [
    "bazille_pd = bazille_pd[(bazille_pd[\"artist_full_name\"] == 'jean-frdric bazille') | \n",
    "                       (bazille_pd[\"artist_full_name\"] == 'frederic bazille') | \n",
    "                       (bazille_pd[\"artist_full_name\"] == 'jean-frédéric bazille') ]"
   ]
  },
  {
   "cell_type": "code",
   "execution_count": 46,
   "metadata": {},
   "outputs": [
    {
     "data": {
      "text/plain": [
       "array(['frederic bazille'], dtype=object)"
      ]
     },
     "execution_count": 46,
     "metadata": {},
     "output_type": "execute_result"
    }
   ],
   "source": [
    "bazille_pd.artist_full_name.unique()"
   ]
  },
  {
   "cell_type": "code",
   "execution_count": 44,
   "metadata": {},
   "outputs": [],
   "source": [
    "bazille_pd[\"artist_full_name\"] = 'frederic bazille'\n",
    "bazille_pd[\"artist_first_name\"] = 'frederic'"
   ]
  },
  {
   "cell_type": "code",
   "execution_count": 118,
   "metadata": {},
   "outputs": [
    {
     "data": {
      "text/plain": [
       "61"
      ]
     },
     "execution_count": 118,
     "metadata": {},
     "output_type": "execute_result"
    }
   ],
   "source": [
    "len(bazille_pd)"
   ]
  },
  {
   "cell_type": "code",
   "execution_count": null,
   "metadata": {},
   "outputs": [],
   "source": []
  },
  {
   "cell_type": "code",
   "execution_count": 53,
   "metadata": {},
   "outputs": [],
   "source": [
    "caillebotte_pd= omiart_pd[omiart_pd[\"artist_full_name\"].str.lower().str.contains(\"caillebotte\", na=False)]"
   ]
  },
  {
   "cell_type": "code",
   "execution_count": 54,
   "metadata": {},
   "outputs": [
    {
     "data": {
      "text/plain": [
       "array(['gustave caillebotte'], dtype=object)"
      ]
     },
     "execution_count": 54,
     "metadata": {},
     "output_type": "execute_result"
    }
   ],
   "source": [
    "caillebotte_pd.artist_full_name.unique()"
   ]
  },
  {
   "cell_type": "code",
   "execution_count": 117,
   "metadata": {},
   "outputs": [
    {
     "data": {
      "text/plain": [
       "230"
      ]
     },
     "execution_count": 117,
     "metadata": {},
     "output_type": "execute_result"
    }
   ],
   "source": [
    "len(caillebotte_pd)"
   ]
  },
  {
   "cell_type": "code",
   "execution_count": null,
   "metadata": {},
   "outputs": [],
   "source": []
  },
  {
   "cell_type": "code",
   "execution_count": 56,
   "metadata": {},
   "outputs": [],
   "source": [
    "cassatt_pd= omiart_pd[omiart_pd[\"artist_full_name\"].str.lower().str.contains(\"cassatt\", na=False)]"
   ]
  },
  {
   "cell_type": "code",
   "execution_count": 57,
   "metadata": {},
   "outputs": [
    {
     "data": {
      "text/plain": [
       "array(['mary cassatt'], dtype=object)"
      ]
     },
     "execution_count": 57,
     "metadata": {},
     "output_type": "execute_result"
    }
   ],
   "source": [
    "cassatt_pd.artist_full_name.unique()"
   ]
  },
  {
   "cell_type": "code",
   "execution_count": 116,
   "metadata": {},
   "outputs": [
    {
     "data": {
      "text/plain": [
       "434"
      ]
     },
     "execution_count": 116,
     "metadata": {},
     "output_type": "execute_result"
    }
   ],
   "source": [
    "len(cassatt_pd)"
   ]
  },
  {
   "cell_type": "code",
   "execution_count": 63,
   "metadata": {},
   "outputs": [],
   "source": [
    "cezanne_pd= omiart_pd[omiart_pd[\"artist_full_name\"].str.lower().str.contains(\"cezanne\", na=False)]"
   ]
  },
  {
   "cell_type": "code",
   "execution_count": 64,
   "metadata": {},
   "outputs": [
    {
     "data": {
      "text/plain": [
       "array(['paul cezanne'], dtype=object)"
      ]
     },
     "execution_count": 64,
     "metadata": {},
     "output_type": "execute_result"
    }
   ],
   "source": [
    "cezanne_pd.artist_full_name.unique()"
   ]
  },
  {
   "cell_type": "code",
   "execution_count": 115,
   "metadata": {},
   "outputs": [
    {
     "data": {
      "text/plain": [
       "620"
      ]
     },
     "execution_count": 115,
     "metadata": {},
     "output_type": "execute_result"
    }
   ],
   "source": [
    "len(cezanne_pd)"
   ]
  },
  {
   "cell_type": "code",
   "execution_count": null,
   "metadata": {},
   "outputs": [],
   "source": []
  },
  {
   "cell_type": "code",
   "execution_count": 136,
   "metadata": {},
   "outputs": [],
   "source": [
    "degas_pd= omiart_pd[omiart_pd[\"artist_full_name\"].str.lower().str.contains(\"degas\", na=False)]"
   ]
  },
  {
   "cell_type": "code",
   "execution_count": 143,
   "metadata": {},
   "outputs": [
    {
     "data": {
      "text/plain": [
       "array(['degas'], dtype=object)"
      ]
     },
     "execution_count": 143,
     "metadata": {},
     "output_type": "execute_result"
    }
   ],
   "source": [
    "degas_pd.artist_last_name.unique()"
   ]
  },
  {
   "cell_type": "code",
   "execution_count": 139,
   "metadata": {},
   "outputs": [],
   "source": [
    "degas_pd = degas_pd[(degas_pd[\"artist_full_name\"] == 'edgar degas') | \n",
    "                       (degas_pd[\"artist_full_name\"] == 'hilaire-germain-edgr degas')]"
   ]
  },
  {
   "cell_type": "code",
   "execution_count": 140,
   "metadata": {},
   "outputs": [],
   "source": [
    "degas_pd[\"artist_full_name\"] = 'edgar degas'\n",
    "degas_pd[\"artist_first_name\"] = 'edgar'\n",
    "degas_pd[\"artist_last_name\"] = 'degas'"
   ]
  },
  {
   "cell_type": "code",
   "execution_count": 141,
   "metadata": {},
   "outputs": [
    {
     "data": {
      "text/plain": [
       "911"
      ]
     },
     "execution_count": 141,
     "metadata": {},
     "output_type": "execute_result"
    }
   ],
   "source": [
    "len(degas_pd)"
   ]
  },
  {
   "cell_type": "code",
   "execution_count": null,
   "metadata": {},
   "outputs": [],
   "source": []
  },
  {
   "cell_type": "code",
   "execution_count": 75,
   "metadata": {},
   "outputs": [],
   "source": [
    "guillaumin_pd= omiart_pd[omiart_pd[\"artist_full_name\"].str.lower().str.contains(\"guillaumin\", na=False)]"
   ]
  },
  {
   "cell_type": "code",
   "execution_count": 76,
   "metadata": {},
   "outputs": [
    {
     "data": {
      "text/plain": [
       "array(['armand guillaumin'], dtype=object)"
      ]
     },
     "execution_count": 76,
     "metadata": {},
     "output_type": "execute_result"
    }
   ],
   "source": [
    "guillaumin_pd.artist_full_name.unique()"
   ]
  },
  {
   "cell_type": "code",
   "execution_count": 77,
   "metadata": {},
   "outputs": [
    {
     "data": {
      "text/plain": [
       "75"
      ]
     },
     "execution_count": 77,
     "metadata": {},
     "output_type": "execute_result"
    }
   ],
   "source": [
    "len(guillaumin_pd)"
   ]
  },
  {
   "cell_type": "code",
   "execution_count": null,
   "metadata": {},
   "outputs": [],
   "source": []
  },
  {
   "cell_type": "code",
   "execution_count": 146,
   "metadata": {},
   "outputs": [],
   "source": [
    "manet_pd= omiart_pd[omiart_pd[\"artist_full_name\"].str.lower().str.contains(\"manet\", na=False)]"
   ]
  },
  {
   "cell_type": "code",
   "execution_count": 152,
   "metadata": {},
   "outputs": [
    {
     "data": {
      "text/plain": [
       "array(['manet'], dtype=object)"
      ]
     },
     "execution_count": 152,
     "metadata": {},
     "output_type": "execute_result"
    }
   ],
   "source": [
    "manet_pd.artist_last_name.unique()"
   ]
  },
  {
   "cell_type": "code",
   "execution_count": 148,
   "metadata": {},
   "outputs": [],
   "source": [
    "manet_pd = manet_pd[(manet_pd[\"artist_full_name\"] == 'edouard manet') | \n",
    "                       (manet_pd[\"artist_full_name\"] == 'édouard manet')]"
   ]
  },
  {
   "cell_type": "code",
   "execution_count": 149,
   "metadata": {},
   "outputs": [],
   "source": [
    "manet_pd[\"artist_full_name\"] = 'edouard manet'\n",
    "manet_pd[\"artist_last_name\"] = 'manet'\n",
    "manet_pd[\"artist_first_name\"] = 'edouard'"
   ]
  },
  {
   "cell_type": "code",
   "execution_count": 153,
   "metadata": {},
   "outputs": [
    {
     "data": {
      "text/plain": [
       "443"
      ]
     },
     "execution_count": 153,
     "metadata": {},
     "output_type": "execute_result"
    }
   ],
   "source": [
    "len(manet_pd)"
   ]
  },
  {
   "cell_type": "code",
   "execution_count": null,
   "metadata": {},
   "outputs": [],
   "source": []
  },
  {
   "cell_type": "code",
   "execution_count": 102,
   "metadata": {},
   "outputs": [],
   "source": [
    "monet_pd= omiart_pd[omiart_pd[\"artist_full_name\"].str.lower().str.contains(\"monet\", na=False)]"
   ]
  },
  {
   "cell_type": "code",
   "execution_count": 103,
   "metadata": {},
   "outputs": [],
   "source": [
    "monet_pd = monet_pd[(monet_pd[\"artist_full_name\"] == 'claude monet')]"
   ]
  },
  {
   "cell_type": "code",
   "execution_count": 104,
   "metadata": {},
   "outputs": [
    {
     "data": {
      "text/plain": [
       "1576"
      ]
     },
     "execution_count": 104,
     "metadata": {},
     "output_type": "execute_result"
    }
   ],
   "source": [
    "len(monet_pd)"
   ]
  },
  {
   "cell_type": "code",
   "execution_count": null,
   "metadata": {},
   "outputs": [],
   "source": []
  },
  {
   "cell_type": "code",
   "execution_count": 109,
   "metadata": {},
   "outputs": [],
   "source": [
    "morisot_pd= omiart_pd[omiart_pd[\"artist_full_name\"].str.lower().str.contains(\"morisot\", na=False)]"
   ]
  },
  {
   "cell_type": "code",
   "execution_count": 110,
   "metadata": {},
   "outputs": [
    {
     "data": {
      "text/plain": [
       "array(['berthe morisot'], dtype=object)"
      ]
     },
     "execution_count": 110,
     "metadata": {},
     "output_type": "execute_result"
    }
   ],
   "source": [
    "morisot_pd.artist_full_name.unique()"
   ]
  },
  {
   "cell_type": "code",
   "execution_count": 111,
   "metadata": {},
   "outputs": [
    {
     "data": {
      "text/plain": [
       "263"
      ]
     },
     "execution_count": 111,
     "metadata": {},
     "output_type": "execute_result"
    }
   ],
   "source": [
    "len(morisot_pd)"
   ]
  },
  {
   "cell_type": "code",
   "execution_count": 154,
   "metadata": {},
   "outputs": [],
   "source": [
    "pissarro_pd= omiart_pd[omiart_pd[\"artist_full_name\"].str.lower().str.contains(\"pissarro\", na=False)]"
   ]
  },
  {
   "cell_type": "code",
   "execution_count": 159,
   "metadata": {},
   "outputs": [
    {
     "data": {
      "text/plain": [
       "array(['pissarro'], dtype=object)"
      ]
     },
     "execution_count": 159,
     "metadata": {},
     "output_type": "execute_result"
    }
   ],
   "source": [
    "pissarro_pd.artist_last_name.unique()"
   ]
  },
  {
   "cell_type": "code",
   "execution_count": 156,
   "metadata": {},
   "outputs": [],
   "source": [
    "pissarro_pd = pissarro_pd[(pissarro_pd[\"artist_full_name\"] == 'camille pissarro') | \n",
    "                       (pissarro_pd[\"artist_full_name\"] == 'Camille Pissarro')]"
   ]
  },
  {
   "cell_type": "code",
   "execution_count": 157,
   "metadata": {},
   "outputs": [],
   "source": [
    "pissarro_pd[\"artist_full_name\"] = 'camille pissarro'\n",
    "pissarro_pd[\"artist_first_name\"] = 'camille'\n",
    "pissarro_pd[\"artist_last_name\"] = 'pissarro'"
   ]
  },
  {
   "cell_type": "code",
   "execution_count": 158,
   "metadata": {},
   "outputs": [
    {
     "data": {
      "text/plain": [
       "1026"
      ]
     },
     "execution_count": 158,
     "metadata": {},
     "output_type": "execute_result"
    }
   ],
   "source": [
    "len(pissarro_pd)"
   ]
  },
  {
   "cell_type": "code",
   "execution_count": null,
   "metadata": {},
   "outputs": [],
   "source": []
  },
  {
   "cell_type": "code",
   "execution_count": 160,
   "metadata": {},
   "outputs": [],
   "source": [
    "renoir_pd= omiart_pd[omiart_pd[\"artist_full_name\"].str.lower().str.contains(\"renoir\", na=False)]"
   ]
  },
  {
   "cell_type": "code",
   "execution_count": 165,
   "metadata": {},
   "outputs": [
    {
     "data": {
      "text/plain": [
       "array(['pierre-auguste', 'Auguste'], dtype=object)"
      ]
     },
     "execution_count": 165,
     "metadata": {},
     "output_type": "execute_result"
    }
   ],
   "source": [
    "renoir_pd.artist_first_name.unique()"
   ]
  },
  {
   "cell_type": "code",
   "execution_count": 162,
   "metadata": {},
   "outputs": [],
   "source": [
    "renoir_pd = renoir_pd[(renoir_pd[\"artist_full_name\"] == 'pierre-auguste renoir') | \n",
    "                       (renoir_pd[\"artist_full_name\"] == 'auguste renoir')]"
   ]
  },
  {
   "cell_type": "code",
   "execution_count": 166,
   "metadata": {},
   "outputs": [],
   "source": [
    "renoir_pd[\"artist_full_name\"] = 'pierre-auguste renoir'\n",
    "renoir_pd[\"artist_last_name\"] = 'renoir'\n",
    "renoir_pd[\"artist_first_name\"] = 'pierre-auguste'"
   ]
  },
  {
   "cell_type": "code",
   "execution_count": 167,
   "metadata": {},
   "outputs": [
    {
     "data": {
      "text/plain": [
       "1508"
      ]
     },
     "execution_count": 167,
     "metadata": {},
     "output_type": "execute_result"
    }
   ],
   "source": [
    "len(renoir_pd)"
   ]
  },
  {
   "cell_type": "code",
   "execution_count": 131,
   "metadata": {},
   "outputs": [],
   "source": [
    "sisley_pd= omiart_pd[omiart_pd[\"artist_full_name\"].str.lower().str.contains(\"sisley\", na=False)]"
   ]
  },
  {
   "cell_type": "code",
   "execution_count": 132,
   "metadata": {},
   "outputs": [
    {
     "data": {
      "text/plain": [
       "array(['alfred sisley'], dtype=object)"
      ]
     },
     "execution_count": 132,
     "metadata": {},
     "output_type": "execute_result"
    }
   ],
   "source": [
    "sisley_pd.artist_full_name.unique()"
   ]
  },
  {
   "cell_type": "code",
   "execution_count": 133,
   "metadata": {},
   "outputs": [
    {
     "data": {
      "text/plain": [
       "523"
      ]
     },
     "execution_count": 133,
     "metadata": {},
     "output_type": "execute_result"
    }
   ],
   "source": [
    "len(sisley_pd)"
   ]
  },
  {
   "cell_type": "code",
   "execution_count": null,
   "metadata": {},
   "outputs": [],
   "source": []
  },
  {
   "cell_type": "code",
   "execution_count": 168,
   "metadata": {},
   "outputs": [],
   "source": [
    "pdList = [bazille_pd, caillebotte_pd, cassatt_pd,cezanne_pd,degas_pd,guillaumin_pd,manet_pd,monet_pd,morisot_pd,pissarro_pd,renoir_pd,sisley_pd]  # List of your dataframes\n",
    "impressionist_df = pd.concat(pdList)"
   ]
  },
  {
   "cell_type": "code",
   "execution_count": 169,
   "metadata": {},
   "outputs": [
    {
     "data": {
      "text/plain": [
       "7670"
      ]
     },
     "execution_count": 169,
     "metadata": {},
     "output_type": "execute_result"
    }
   ],
   "source": [
    "len(impressionist_df)"
   ]
  },
  {
   "cell_type": "code",
   "execution_count": 170,
   "metadata": {},
   "outputs": [
    {
     "data": {
      "text/plain": [
       "array(['frederic bazille', 'gustave caillebotte', 'mary cassatt',\n",
       "       'paul cezanne', 'edgar degas', 'armand guillaumin',\n",
       "       'edouard manet', 'claude monet', 'berthe morisot',\n",
       "       'camille pissarro', 'pierre-auguste renoir', 'alfred sisley'],\n",
       "      dtype=object)"
      ]
     },
     "execution_count": 170,
     "metadata": {},
     "output_type": "execute_result"
    }
   ],
   "source": [
    "impressionist_df.artist_full_name.unique()"
   ]
  },
  {
   "cell_type": "code",
   "execution_count": 171,
   "metadata": {},
   "outputs": [],
   "source": [
    "impressionist_df.to_csv ('impressionists.csv', index = False, header=True)"
   ]
  },
  {
   "cell_type": "code",
   "execution_count": null,
   "metadata": {},
   "outputs": [],
   "source": []
  }
 ],
 "metadata": {
  "kernelspec": {
   "display_name": "Python 3",
   "language": "python",
   "name": "python3"
  },
  "language_info": {
   "codemirror_mode": {
    "name": "ipython",
    "version": 3
   },
   "file_extension": ".py",
   "mimetype": "text/x-python",
   "name": "python",
   "nbconvert_exporter": "python",
   "pygments_lexer": "ipython3",
   "version": "3.8.3"
  }
 },
 "nbformat": 4,
 "nbformat_minor": 4
}
