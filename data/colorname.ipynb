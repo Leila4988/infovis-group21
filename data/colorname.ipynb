{
 "cells": [
  {
   "cell_type": "code",
   "execution_count": 22,
   "id": "iraqi-passport",
   "metadata": {},
   "outputs": [],
   "source": [
    "import pandas as pd"
   ]
  },
  {
   "cell_type": "code",
   "execution_count": 23,
   "id": "lightweight-potter",
   "metadata": {},
   "outputs": [],
   "source": [
    "dt = pd.read_csv(\"/Users/xuanzhou/Documents/infovis-group21/data/impressionists.csv\",encoding = \"ISO-8859-1\", lineterminator='\\n')"
   ]
  },
  {
   "cell_type": "code",
   "execution_count": 24,
   "id": "buried-photographer",
   "metadata": {},
   "outputs": [
    {
     "name": "stdout",
     "output_type": "stream",
     "text": [
      "the data size:  7670\n"
     ]
    }
   ],
   "source": [
    "print(\"the data size: \", len(dt))"
   ]
  },
  {
   "cell_type": "code",
   "execution_count": 43,
   "id": "accessory-female",
   "metadata": {},
   "outputs": [],
   "source": [
    "import numpy as np\n",
    "from skimage import color\n",
    "\n",
    "# peaked_color = '#673429ff'\n",
    "\n",
    "# Initialize a dictionary where the key is the RGB value as hex string, and the value is the color name\n",
    "# https://en.wikipedia.org/wiki/List_of_colors:_A%E2%80%93F\n",
    "\n",
    "colors_dict = {\n",
    "\"FFFF00\":\"Yellow\",\"008000\":\"Green\",\"008080\":\"Teal\",\"40E0D0\":\"Turquoise\",\"00FFFF\":\"Cyan\",\"0000FF\":\"Blue\",\"4B0082\":\"Indigo\",\n",
    "\"800080\":\"Purple\",\"EE82EE\":\"Violet\",\"FF00FF\":\"Magenta\",\"FFC0CB\":\"Pink\",\"FF0000\":\"Red\",\"A52A2A\":\"Brown\",\"FFA500\":\"Orange\",\n",
    "\"FFD700\":\"Gold\",\"D2B48C\":\"Tan\",\"F5F5DC\":\"Beige\",\"FFFFFF\":\"White\",\"808080\":\"Gray\",\"000000\":\"Black\"}\n",
    "# Get a list of color values in hex string format\n",
    "hex_rgb_colors = list(colors_dict.keys())\n",
    "\n",
    "# https://stackoverflow.com/questions/39908314/slice-all-strings-in-a-list, https://stackoverflow.com/questions/9210525/how-do-i-convert-hex-to-decimal-in-python\n",
    "r = [int(hex[0:2], 16) for hex in hex_rgb_colors]  # List of red elements.\n",
    "g = [int(hex[2:4], 16) for hex in hex_rgb_colors]  # List of green elements.\n",
    "b = [int(hex[4:6], 16) for hex in hex_rgb_colors]  # List of blue elements.\n",
    "\n",
    "r = np.asarray(r, np.uint8)  # Convert r from list to array (of uint8 elements)\n",
    "g = np.asarray(g, np.uint8)  # Convert g from list to array\n",
    "b = np.asarray(b, np.uint8)  # Convert b from list to array\n",
    "\n",
    "rgb = np.dstack((r, g, b)) #Stack r,g,b across third dimention - create to 3D array (of R,G,B elements).\n",
    "\n",
    "# Convert from sRGB color spave to LAB color space\n",
    "# https://stackoverflow.com/questions/13405956/convert-an-image-rgb-lab-with-python\n",
    "lab = color.rgb2lab(rgb)\n",
    "\n",
    "\n",
    "def color1(peaked_color):\n",
    "# Convert peaked color from sRGB color spave to LAB color space\n",
    "# peaked_color = '#673429ff'\n",
    "    peaked_rgb = np.asarray([int(peaked_color[1:3], 16), int(peaked_color[3:5], 16), int(peaked_color[5:7], 16)], np.uint8)\n",
    "    peaked_rgb = np.dstack((peaked_rgb[0], peaked_rgb[1], peaked_rgb[2]))\n",
    "    peaked_lab = color.rgb2lab(peaked_rgb)\n",
    "\n",
    "# Compute Euclidean distance from peaked_lab to each element of lab\n",
    "    lab_dist = ((lab[:,:,0] - peaked_lab[:,:,0])**2 + (lab[:,:,1] - peaked_lab[:,:,1])**2 + (lab[:,:,2] - peaked_lab[:,:,2])**2)**0.5\n",
    "\n",
    "# Get the index of the minimum distance\n",
    "    min_index = lab_dist.argmin()\n",
    "\n",
    "# Get hex string of the color with the minimum Euclidean distance (minimum distance in LAB color space)\n",
    "    peaked_closest_hex = hex_rgb_colors[min_index]\n",
    "\n",
    "# Get color name from the dictionary\n",
    "    peaked_color_name = colors_dict[peaked_closest_hex]\n",
    "\n",
    "# print(\"Peaked color name: \" + peaked_color_name)\n",
    "    return peaked_color_name "
   ]
  },
  {
   "cell_type": "code",
   "execution_count": 44,
   "id": "willing-scale",
   "metadata": {},
   "outputs": [],
   "source": [
    "dt['color name'] = dt.dominant_color.apply(color1)"
   ]
  },
  {
   "cell_type": "code",
   "execution_count": 45,
   "id": "mobile-producer",
   "metadata": {},
   "outputs": [],
   "source": [
    "dt.to_csv(\"/Users/xuanzhou/Documents/infovis-group21/data/withcolorname1.csv\", index=False)"
   ]
  },
  {
   "cell_type": "code",
   "execution_count": null,
   "id": "silent-yellow",
   "metadata": {},
   "outputs": [],
   "source": []
  }
 ],
 "metadata": {
  "kernelspec": {
   "display_name": "Python 3",
   "language": "python",
   "name": "python3"
  },
  "language_info": {
   "codemirror_mode": {
    "name": "ipython",
    "version": 3
   },
   "file_extension": ".py",
   "mimetype": "text/x-python",
   "name": "python",
   "nbconvert_exporter": "python",
   "pygments_lexer": "ipython3",
   "version": "3.7.9"
  }
 },
 "nbformat": 4,
 "nbformat_minor": 5
}
